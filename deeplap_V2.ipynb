{
  "nbformat": 4,
  "nbformat_minor": 0,
  "metadata": {
    "colab": {
      "provenance": [],
      "gpuType": "L4"
    },
    "kernelspec": {
      "name": "python3",
      "display_name": "Python 3"
    },
    "language_info": {
      "name": "python"
    },
    "accelerator": "GPU"
  },
  "cells": [
    {
      "cell_type": "code",
      "execution_count": null,
      "metadata": {
        "id": "f33gyqE2K2JJ"
      },
      "outputs": [],
      "source": []
    },
    {
      "cell_type": "code",
      "source": [],
      "metadata": {
        "id": "xJu_XvBdZAgi"
      },
      "execution_count": null,
      "outputs": []
    },
    {
      "cell_type": "markdown",
      "source": [
        "# Install necessary libraries\n"
      ],
      "metadata": {
        "id": "rub1Pth-Bmyt"
      }
    },
    {
      "cell_type": "code",
      "source": [
        "!pip install torch torchvision torchmetrics thop\n"
      ],
      "metadata": {
        "id": "PhbiuW2BU9Ec"
      },
      "execution_count": null,
      "outputs": []
    },
    {
      "cell_type": "code",
      "source": [],
      "metadata": {
        "id": "ijKMTUvHT6Ct"
      },
      "execution_count": null,
      "outputs": []
    },
    {
      "cell_type": "code",
      "source": [
        "! pip install torchprofile"
      ],
      "metadata": {
        "id": "W2od11trTFic"
      },
      "execution_count": null,
      "outputs": []
    },
    {
      "cell_type": "code",
      "source": [
        "!pip install -U fvcore"
      ],
      "metadata": {
        "id": "kP_mEN9aTPSC"
      },
      "execution_count": null,
      "outputs": []
    },
    {
      "cell_type": "code",
      "source": [],
      "metadata": {
        "id": "2NuilIoSNyu3"
      },
      "execution_count": null,
      "outputs": []
    },
    {
      "cell_type": "code",
      "source": [
        "import torch\n",
        "import torch.nn as nn\n",
        "import numpy as np\n",
        "from torch.utils.data import Dataset, DataLoader\n",
        "from torchvision import transforms\n",
        "import torchvision.transforms.functional as TF\n",
        "import os\n",
        "\n",
        "\n",
        "from PIL import Image\n",
        "\n",
        "#from torchmetrics import JaccardIndex\n",
        "#from thop import profile, clever_format\n",
        "import time\n",
        "\n",
        "#from fvcore.nn import FlopCountAnalysis, flop_count_table\n",
        "#import torchprofile\n",
        "\n",
        "#from models.deeplabv2.deeplabv2 import get_deeplab_v2\n",
        "\n",
        "\n",
        "from torchmetrics import JaccardIndex\n",
        "from thop import profile, clever_format\n",
        "import time\n",
        "\n",
        "from fvcore.nn import FlopCountAnalysis, flop_count_table\n",
        "import torchprofile\n",
        "\n",
        "\n",
        "\n"
      ],
      "metadata": {
        "id": "KdsXf207N8gV"
      },
      "execution_count": null,
      "outputs": []
    },
    {
      "cell_type": "code",
      "source": [
        "from google.colab import drive\n",
        "\n",
        "drive.mount('/content/Drive')\n",
        "get_ipython().system('/content/Drive/MyDrive/Cityscapes/Cityspaces')"
      ],
      "metadata": {
        "id": "dBTPWcocSrR-"
      },
      "execution_count": null,
      "outputs": []
    },
    {
      "cell_type": "code",
      "source": [
        "\n",
        "class CityscapesDataset(Dataset):\n",
        "  def __init__(self, root_dir, im_transform ):\n",
        "\n",
        "    \"\"\"\n",
        "    Args:\n",
        "    root_dir (string): Directory with all the images.\n",
        "    transform (callable, optional): Optional transform to be applied on a sample.\n",
        "    \"\"\"\n",
        "    self.root_dir = root_dir\n",
        "    self.im_transform = im_transform\n",
        "    #self.lab_transform = lab_transform\n",
        "    self.images = []\n",
        "    for subdir, dirs, files in os.walk(root_dir):\n",
        "      for file in files:\n",
        "        if file.endswith('_gtFine_color.png'):\n",
        "          self.images.append(os.path.join(subdir, file))\n",
        "\n",
        "  def __len__(self):\n",
        "    return len(self.images)\n",
        "\n",
        "  def __getitem__(self, idx):\n",
        "    img_name = self.images[idx]\n",
        "    image = Image.open(img_name).convert('RGB')\n",
        "    label_name = img_name.replace('_gtFine_color.png', '_gtFine_labelTrainIds.png')  #labelTrainIds\n",
        "    label = Image.open(label_name)\n",
        "\n",
        "\n",
        "    # Resize label using nearest-neighbor interpolation\n",
        "    label = TF.resize(label, (1024, 512), interpolation=transforms.InterpolationMode.NEAREST)\n",
        "    label = np.array(label)  # Convert to numpy array\n",
        "    label = torch.from_numpy(label).long()  # Convert to LongTensor\n",
        "\n",
        "\n",
        "    if self.im_transform:\n",
        "\n",
        "      image = self.im_transform(image)\n",
        "\n",
        "    # if self.lab_transform:\n",
        "    #   label = self.lab_transform(label)\n",
        "\n",
        "    return image, label\n",
        "\n"
      ],
      "metadata": {
        "id": "Z3HtXvfzRp1R"
      },
      "execution_count": null,
      "outputs": []
    },
    {
      "cell_type": "code",
      "source": [],
      "metadata": {
        "id": "JYwHw7jwvTI2"
      },
      "execution_count": null,
      "outputs": []
    },
    {
      "cell_type": "markdown",
      "source": [
        "**Model Clone**"
      ],
      "metadata": {
        "id": "_09FKOE7XLEG"
      }
    },
    {
      "cell_type": "code",
      "source": [
        "# Clone the GitHub repository\n",
        "!git clone https://github.com/Gabrysse/MLDL2024_project1.git\n"
      ],
      "metadata": {
        "id": "HPllYnf-NPeU"
      },
      "execution_count": null,
      "outputs": []
    },
    {
      "cell_type": "code",
      "source": [],
      "metadata": {
        "id": "54MyjXbIZrqG"
      },
      "execution_count": null,
      "outputs": []
    },
    {
      "cell_type": "code",
      "source": [],
      "metadata": {
        "id": "tdvvn2sDZr2v"
      },
      "execution_count": null,
      "outputs": []
    },
    {
      "cell_type": "code",
      "source": [
        "# Navigate to the project directory\n",
        "%cd MLDL2024_project1"
      ],
      "metadata": {
        "id": "7kkLfxwKNZ5J"
      },
      "execution_count": null,
      "outputs": []
    },
    {
      "cell_type": "code",
      "source": [
        "from models.deeplabv2.deeplabv2 import get_deeplab_v2"
      ],
      "metadata": {
        "id": "Vi5RIWMWOJba"
      },
      "execution_count": null,
      "outputs": []
    },
    {
      "cell_type": "code",
      "source": [
        "# Set device to GPU if available\n",
        "device = torch.device('cuda' if torch.cuda.is_available() else 'cpu')\n"
      ],
      "metadata": {
        "id": "PAC9VIa40hM9"
      },
      "execution_count": null,
      "outputs": []
    },
    {
      "cell_type": "code",
      "source": [],
      "metadata": {
        "id": "6NlAkhe7VNNF"
      },
      "execution_count": null,
      "outputs": []
    },
    {
      "cell_type": "markdown",
      "source": [
        "**Parameters**"
      ],
      "metadata": {
        "id": "mnnzlL6eVNsV"
      }
    },
    {
      "cell_type": "code",
      "source": [
        "# Define training parameters\n",
        "epochs = 50\n",
        "learning_rate =  0.0001\n",
        "batch_size = 4\n",
        "train_resolution = (1024, 512)\n",
        "test_resolution = (1024, 512)\n",
        "\n",
        "#learning_rate = 0.0001 batch_size = 4"
      ],
      "metadata": {
        "id": "032jMg_kVQWJ"
      },
      "execution_count": null,
      "outputs": []
    },
    {
      "cell_type": "code",
      "source": [],
      "metadata": {
        "id": "LjeViRqLVQ7a"
      },
      "execution_count": null,
      "outputs": []
    },
    {
      "cell_type": "markdown",
      "source": [
        "**Train Loader**"
      ],
      "metadata": {
        "id": "UszT9qhVJl44"
      }
    },
    {
      "cell_type": "code",
      "source": [
        "# Define a transform if you need to preprocess the images\n",
        "transformed_dataset = CityscapesDataset(root_dir='/content/Drive/MyDrive/Cityscapes/Cityspaces/gtFine/train',\n",
        "im_transform=transforms.Compose([\n",
        "\n",
        "transforms.ToTensor(),\n",
        "transforms.Resize(train_resolution),\n",
        "\n",
        "]), )\n",
        "\n",
        "\n",
        "train_loader = DataLoader(transformed_dataset, batch_size=batch_size, shuffle=True, num_workers=4)\n",
        "\n",
        "\n"
      ],
      "metadata": {
        "id": "gjWP2n62UBn3"
      },
      "execution_count": null,
      "outputs": []
    },
    {
      "cell_type": "code",
      "source": [],
      "metadata": {
        "id": "aovVpQIwVnsk"
      },
      "execution_count": null,
      "outputs": []
    },
    {
      "cell_type": "code",
      "source": [
        "# Load the DeepLabV2 model\n",
        "model = get_deeplab_v2(num_classes=19, pretrain=False)\n",
        "model = model.to(device)\n",
        "\n",
        "\n",
        "\n",
        "# Define the CrossEntropyLoss with ignore_index set to 255\n",
        "criterion = nn.CrossEntropyLoss(ignore_index=255)\n",
        "\n",
        "optimizer = torch.optim.Adam(model.parameters(), lr=learning_rate)\n"
      ],
      "metadata": {
        "id": "F0Yr3sirzs00"
      },
      "execution_count": null,
      "outputs": []
    },
    {
      "cell_type": "code",
      "source": [
        "# Define the metric for mIoU\n",
        "miou_metric = JaccardIndex(num_classes=19, task='multiclass' , ignore_index=255).to(device)\n"
      ],
      "metadata": {
        "id": "8fNiWtGSzs8P"
      },
      "execution_count": null,
      "outputs": []
    },
    {
      "cell_type": "code",
      "source": [
        "# Function to compute latency\n",
        "def measure_latency(model, input_tensor, repetitions=100):\n",
        "    model.eval()\n",
        "    with torch.no_grad():\n",
        "        start = time.time()\n",
        "        for _ in range(repetitions):\n",
        "            _ = model(input_tensor)\n",
        "        end = time.time()\n",
        "    latency = (end - start) / repetitions\n",
        "    return latency\n",
        "\n",
        "\n",
        "\n",
        "# Measure FLOPs and number of parameters\n",
        "\n",
        "\n",
        "dummy_input = torch.randn(1, 3, 1024, 512).to(device)\n",
        "\n",
        "height = 1024\n",
        "width = 512\n",
        "image =torch.zeros((1,3, height, width)).to(device)   # torch.randn(1,3, 1024, 512).to(device)#\n",
        "\n",
        "model.eval()\n",
        "flops = FlopCountAnalysis(model, image)\n",
        "print(flop_count_table(flops))\n",
        "\n"
      ],
      "metadata": {
        "id": "e8p-LLxDzMNb",
        "colab": {
          "base_uri": "https://localhost:8080/"
        },
        "outputId": "c7b215d3-20ae-4490-deb2-01f05b749482"
      },
      "execution_count": null,
      "outputs": [
        {
          "output_type": "stream",
          "name": "stdout",
          "text": [
            "| module                         | #parameters or shape   | #flops     |\n",
            "|:-------------------------------|:-----------------------|:-----------|\n",
            "| model                          | 43.901M                | 0.375T     |\n",
            "|  conv1                         |  9.408K                |  1.233G    |\n",
            "|   conv1.weight                 |   (64, 3, 7, 7)        |            |\n",
            "|  bn1                           |  0.128K                |  16.777M   |\n",
            "|   bn1.weight                   |   (64,)                |            |\n",
            "|   bn1.bias                     |   (64,)                |            |\n",
            "|  layer1                        |  0.216M                |  7.155G    |\n",
            "|   layer1.0                     |   75.008K              |   2.487G   |\n",
            "|    layer1.0.conv1              |    4.096K              |    0.136G  |\n",
            "|    layer1.0.bn1                |    0.128K              |    4.244M  |\n",
            "|    layer1.0.conv2              |    36.864K             |    1.222G  |\n",
            "|    layer1.0.bn2                |    0.128K              |    4.244M  |\n",
            "|    layer1.0.conv3              |    16.384K             |    0.543G  |\n",
            "|    layer1.0.bn3                |    0.512K              |    16.974M |\n",
            "|    layer1.0.downsample         |    16.896K             |    0.56G   |\n",
            "|   layer1.1                     |   70.4K                |   2.334G   |\n",
            "|    layer1.1.conv1              |    16.384K             |    0.543G  |\n",
            "|    layer1.1.bn1                |    0.128K              |    4.244M  |\n",
            "|    layer1.1.conv2              |    36.864K             |    1.222G  |\n",
            "|    layer1.1.bn2                |    0.128K              |    4.244M  |\n",
            "|    layer1.1.conv3              |    16.384K             |    0.543G  |\n",
            "|    layer1.1.bn3                |    0.512K              |    16.974M |\n",
            "|   layer1.2                     |   70.4K                |   2.334G   |\n",
            "|    layer1.2.conv1              |    16.384K             |    0.543G  |\n",
            "|    layer1.2.bn1                |    0.128K              |    4.244M  |\n",
            "|    layer1.2.conv2              |    36.864K             |    1.222G  |\n",
            "|    layer1.2.bn2                |    0.128K              |    4.244M  |\n",
            "|    layer1.2.conv3              |    16.384K             |    0.543G  |\n",
            "|    layer1.2.bn3                |    0.512K              |    16.974M |\n",
            "|  layer2                        |  1.22M                 |  10.226G   |\n",
            "|   layer2.0                     |   0.379M               |   3.181G   |\n",
            "|    layer2.0.conv1              |    32.768K             |    0.275G  |\n",
            "|    layer2.0.bn1                |    0.256K              |    2.147M  |\n",
            "|    layer2.0.conv2              |    0.147M              |    1.236G  |\n",
            "|    layer2.0.bn2                |    0.256K              |    2.147M  |\n",
            "|    layer2.0.conv3              |    65.536K             |    0.55G   |\n",
            "|    layer2.0.bn3                |    1.024K              |    8.586M  |\n",
            "|    layer2.0.downsample         |    0.132M              |    1.108G  |\n",
            "|   layer2.1                     |   0.28M                |   2.348G   |\n",
            "|    layer2.1.conv1              |    65.536K             |    0.55G   |\n",
            "|    layer2.1.bn1                |    0.256K              |    2.147M  |\n",
            "|    layer2.1.conv2              |    0.147M              |    1.236G  |\n",
            "|    layer2.1.bn2                |    0.256K              |    2.147M  |\n",
            "|    layer2.1.conv3              |    65.536K             |    0.55G   |\n",
            "|    layer2.1.bn3                |    1.024K              |    8.586M  |\n",
            "|   layer2.2                     |   0.28M                |   2.348G   |\n",
            "|    layer2.2.conv1              |    65.536K             |    0.55G   |\n",
            "|    layer2.2.bn1                |    0.256K              |    2.147M  |\n",
            "|    layer2.2.conv2              |    0.147M              |    1.236G  |\n",
            "|    layer2.2.bn2                |    0.256K              |    2.147M  |\n",
            "|    layer2.2.conv3              |    65.536K             |    0.55G   |\n",
            "|    layer2.2.bn3                |    1.024K              |    8.586M  |\n",
            "|   layer2.3                     |   0.28M                |   2.348G   |\n",
            "|    layer2.3.conv1              |    65.536K             |    0.55G   |\n",
            "|    layer2.3.bn1                |    0.256K              |    2.147M  |\n",
            "|    layer2.3.conv2              |    0.147M              |    1.236G  |\n",
            "|    layer2.3.bn2                |    0.256K              |    2.147M  |\n",
            "|    layer2.3.conv3              |    65.536K             |    0.55G   |\n",
            "|    layer2.3.bn3                |    1.024K              |    8.586M  |\n",
            "|  layer3                        |  26.09M                |  0.219T    |\n",
            "|   layer3.0                     |   1.512M               |   12.682G  |\n",
            "|    layer3.0.conv1              |    0.131M              |    1.099G  |\n",
            "|    layer3.0.bn1                |    0.512K              |    4.293M  |\n",
            "|    layer3.0.conv2              |    0.59M               |    4.946G  |\n",
            "|    layer3.0.bn2                |    0.512K              |    4.293M  |\n",
            "|    layer3.0.conv3              |    0.262M              |    2.198G  |\n",
            "|    layer3.0.bn3                |    2.048K              |    17.172M |\n",
            "|    layer3.0.downsample         |    0.526M              |    4.413G  |\n",
            "|   layer3.1                     |   1.117M               |   9.368G   |\n",
            "|    layer3.1.conv1              |    0.262M              |    2.198G  |\n",
            "|    layer3.1.bn1                |    0.512K              |    4.293M  |\n",
            "|    layer3.1.conv2              |    0.59M               |    4.946G  |\n",
            "|    layer3.1.bn2                |    0.512K              |    4.293M  |\n",
            "|    layer3.1.conv3              |    0.262M              |    2.198G  |\n",
            "|    layer3.1.bn3                |    2.048K              |    17.172M |\n",
            "|   layer3.2                     |   1.117M               |   9.368G   |\n",
            "|    layer3.2.conv1              |    0.262M              |    2.198G  |\n",
            "|    layer3.2.bn1                |    0.512K              |    4.293M  |\n",
            "|    layer3.2.conv2              |    0.59M               |    4.946G  |\n",
            "|    layer3.2.bn2                |    0.512K              |    4.293M  |\n",
            "|    layer3.2.conv3              |    0.262M              |    2.198G  |\n",
            "|    layer3.2.bn3                |    2.048K              |    17.172M |\n",
            "|   layer3.3                     |   1.117M               |   9.368G   |\n",
            "|    layer3.3.conv1              |    0.262M              |    2.198G  |\n",
            "|    layer3.3.bn1                |    0.512K              |    4.293M  |\n",
            "|    layer3.3.conv2              |    0.59M               |    4.946G  |\n",
            "|    layer3.3.bn2                |    0.512K              |    4.293M  |\n",
            "|    layer3.3.conv3              |    0.262M              |    2.198G  |\n",
            "|    layer3.3.bn3                |    2.048K              |    17.172M |\n",
            "|   layer3.4                     |   1.117M               |   9.368G   |\n",
            "|    layer3.4.conv1              |    0.262M              |    2.198G  |\n",
            "|    layer3.4.bn1                |    0.512K              |    4.293M  |\n",
            "|    layer3.4.conv2              |    0.59M               |    4.946G  |\n",
            "|    layer3.4.bn2                |    0.512K              |    4.293M  |\n",
            "|    layer3.4.conv3              |    0.262M              |    2.198G  |\n",
            "|    layer3.4.bn3                |    2.048K              |    17.172M |\n",
            "|   layer3.5                     |   1.117M               |   9.368G   |\n",
            "|    layer3.5.conv1              |    0.262M              |    2.198G  |\n",
            "|    layer3.5.bn1                |    0.512K              |    4.293M  |\n",
            "|    layer3.5.conv2              |    0.59M               |    4.946G  |\n",
            "|    layer3.5.bn2                |    0.512K              |    4.293M  |\n",
            "|    layer3.5.conv3              |    0.262M              |    2.198G  |\n",
            "|    layer3.5.bn3                |    2.048K              |    17.172M |\n",
            "|   layer3.6                     |   1.117M               |   9.368G   |\n",
            "|    layer3.6.conv1              |    0.262M              |    2.198G  |\n",
            "|    layer3.6.bn1                |    0.512K              |    4.293M  |\n",
            "|    layer3.6.conv2              |    0.59M               |    4.946G  |\n",
            "|    layer3.6.bn2                |    0.512K              |    4.293M  |\n",
            "|    layer3.6.conv3              |    0.262M              |    2.198G  |\n",
            "|    layer3.6.bn3                |    2.048K              |    17.172M |\n",
            "|   layer3.7                     |   1.117M               |   9.368G   |\n",
            "|    layer3.7.conv1              |    0.262M              |    2.198G  |\n",
            "|    layer3.7.bn1                |    0.512K              |    4.293M  |\n",
            "|    layer3.7.conv2              |    0.59M               |    4.946G  |\n",
            "|    layer3.7.bn2                |    0.512K              |    4.293M  |\n",
            "|    layer3.7.conv3              |    0.262M              |    2.198G  |\n",
            "|    layer3.7.bn3                |    2.048K              |    17.172M |\n",
            "|   layer3.8                     |   1.117M               |   9.368G   |\n",
            "|    layer3.8.conv1              |    0.262M              |    2.198G  |\n",
            "|    layer3.8.bn1                |    0.512K              |    4.293M  |\n",
            "|    layer3.8.conv2              |    0.59M               |    4.946G  |\n",
            "|    layer3.8.bn2                |    0.512K              |    4.293M  |\n",
            "|    layer3.8.conv3              |    0.262M              |    2.198G  |\n",
            "|    layer3.8.bn3                |    2.048K              |    17.172M |\n",
            "|   layer3.9                     |   1.117M               |   9.368G   |\n",
            "|    layer3.9.conv1              |    0.262M              |    2.198G  |\n",
            "|    layer3.9.bn1                |    0.512K              |    4.293M  |\n",
            "|    layer3.9.conv2              |    0.59M               |    4.946G  |\n",
            "|    layer3.9.bn2                |    0.512K              |    4.293M  |\n",
            "|    layer3.9.conv3              |    0.262M              |    2.198G  |\n",
            "|    layer3.9.bn3                |    2.048K              |    17.172M |\n",
            "|   layer3.10                    |   1.117M               |   9.368G   |\n",
            "|    layer3.10.conv1             |    0.262M              |    2.198G  |\n",
            "|    layer3.10.bn1               |    0.512K              |    4.293M  |\n",
            "|    layer3.10.conv2             |    0.59M               |    4.946G  |\n",
            "|    layer3.10.bn2               |    0.512K              |    4.293M  |\n",
            "|    layer3.10.conv3             |    0.262M              |    2.198G  |\n",
            "|    layer3.10.bn3               |    2.048K              |    17.172M |\n",
            "|   layer3.11                    |   1.117M               |   9.368G   |\n",
            "|    layer3.11.conv1             |    0.262M              |    2.198G  |\n",
            "|    layer3.11.bn1               |    0.512K              |    4.293M  |\n",
            "|    layer3.11.conv2             |    0.59M               |    4.946G  |\n",
            "|    layer3.11.bn2               |    0.512K              |    4.293M  |\n",
            "|    layer3.11.conv3             |    0.262M              |    2.198G  |\n",
            "|    layer3.11.bn3               |    2.048K              |    17.172M |\n",
            "|   layer3.12                    |   1.117M               |   9.368G   |\n",
            "|    layer3.12.conv1             |    0.262M              |    2.198G  |\n",
            "|    layer3.12.bn1               |    0.512K              |    4.293M  |\n",
            "|    layer3.12.conv2             |    0.59M               |    4.946G  |\n",
            "|    layer3.12.bn2               |    0.512K              |    4.293M  |\n",
            "|    layer3.12.conv3             |    0.262M              |    2.198G  |\n",
            "|    layer3.12.bn3               |    2.048K              |    17.172M |\n",
            "|   layer3.13                    |   1.117M               |   9.368G   |\n",
            "|    layer3.13.conv1             |    0.262M              |    2.198G  |\n",
            "|    layer3.13.bn1               |    0.512K              |    4.293M  |\n",
            "|    layer3.13.conv2             |    0.59M               |    4.946G  |\n",
            "|    layer3.13.bn2               |    0.512K              |    4.293M  |\n",
            "|    layer3.13.conv3             |    0.262M              |    2.198G  |\n",
            "|    layer3.13.bn3               |    2.048K              |    17.172M |\n",
            "|   layer3.14                    |   1.117M               |   9.368G   |\n",
            "|    layer3.14.conv1             |    0.262M              |    2.198G  |\n",
            "|    layer3.14.bn1               |    0.512K              |    4.293M  |\n",
            "|    layer3.14.conv2             |    0.59M               |    4.946G  |\n",
            "|    layer3.14.bn2               |    0.512K              |    4.293M  |\n",
            "|    layer3.14.conv3             |    0.262M              |    2.198G  |\n",
            "|    layer3.14.bn3               |    2.048K              |    17.172M |\n",
            "|   layer3.15                    |   1.117M               |   9.368G   |\n",
            "|    layer3.15.conv1             |    0.262M              |    2.198G  |\n",
            "|    layer3.15.bn1               |    0.512K              |    4.293M  |\n",
            "|    layer3.15.conv2             |    0.59M               |    4.946G  |\n",
            "|    layer3.15.bn2               |    0.512K              |    4.293M  |\n",
            "|    layer3.15.conv3             |    0.262M              |    2.198G  |\n",
            "|    layer3.15.bn3               |    2.048K              |    17.172M |\n",
            "|   layer3.16                    |   1.117M               |   9.368G   |\n",
            "|    layer3.16.conv1             |    0.262M              |    2.198G  |\n",
            "|    layer3.16.bn1               |    0.512K              |    4.293M  |\n",
            "|    layer3.16.conv2             |    0.59M               |    4.946G  |\n",
            "|    layer3.16.bn2               |    0.512K              |    4.293M  |\n",
            "|    layer3.16.conv3             |    0.262M              |    2.198G  |\n",
            "|    layer3.16.bn3               |    2.048K              |    17.172M |\n",
            "|   layer3.17                    |   1.117M               |   9.368G   |\n",
            "|    layer3.17.conv1             |    0.262M              |    2.198G  |\n",
            "|    layer3.17.bn1               |    0.512K              |    4.293M  |\n",
            "|    layer3.17.conv2             |    0.59M               |    4.946G  |\n",
            "|    layer3.17.bn2               |    0.512K              |    4.293M  |\n",
            "|    layer3.17.conv3             |    0.262M              |    2.198G  |\n",
            "|    layer3.17.bn3               |    2.048K              |    17.172M |\n",
            "|   layer3.18                    |   1.117M               |   9.368G   |\n",
            "|    layer3.18.conv1             |    0.262M              |    2.198G  |\n",
            "|    layer3.18.bn1               |    0.512K              |    4.293M  |\n",
            "|    layer3.18.conv2             |    0.59M               |    4.946G  |\n",
            "|    layer3.18.bn2               |    0.512K              |    4.293M  |\n",
            "|    layer3.18.conv3             |    0.262M              |    2.198G  |\n",
            "|    layer3.18.bn3               |    2.048K              |    17.172M |\n",
            "|   layer3.19                    |   1.117M               |   9.368G   |\n",
            "|    layer3.19.conv1             |    0.262M              |    2.198G  |\n",
            "|    layer3.19.bn1               |    0.512K              |    4.293M  |\n",
            "|    layer3.19.conv2             |    0.59M               |    4.946G  |\n",
            "|    layer3.19.bn2               |    0.512K              |    4.293M  |\n",
            "|    layer3.19.conv3             |    0.262M              |    2.198G  |\n",
            "|    layer3.19.bn3               |    2.048K              |    17.172M |\n",
            "|   layer3.20                    |   1.117M               |   9.368G   |\n",
            "|    layer3.20.conv1             |    0.262M              |    2.198G  |\n",
            "|    layer3.20.bn1               |    0.512K              |    4.293M  |\n",
            "|    layer3.20.conv2             |    0.59M               |    4.946G  |\n",
            "|    layer3.20.bn2               |    0.512K              |    4.293M  |\n",
            "|    layer3.20.conv3             |    0.262M              |    2.198G  |\n",
            "|    layer3.20.bn3               |    2.048K              |    17.172M |\n",
            "|   layer3.21                    |   1.117M               |   9.368G   |\n",
            "|    layer3.21.conv1             |    0.262M              |    2.198G  |\n",
            "|    layer3.21.bn1               |    0.512K              |    4.293M  |\n",
            "|    layer3.21.conv2             |    0.59M               |    4.946G  |\n",
            "|    layer3.21.bn2               |    0.512K              |    4.293M  |\n",
            "|    layer3.21.conv3             |    0.262M              |    2.198G  |\n",
            "|    layer3.21.bn3               |    2.048K              |    17.172M |\n",
            "|   layer3.22                    |   1.117M               |   9.368G   |\n",
            "|    layer3.22.conv1             |    0.262M              |    2.198G  |\n",
            "|    layer3.22.bn1               |    0.512K              |    4.293M  |\n",
            "|    layer3.22.conv2             |    0.59M               |    4.946G  |\n",
            "|    layer3.22.bn2               |    0.512K              |    4.293M  |\n",
            "|    layer3.22.conv3             |    0.262M              |    2.198G  |\n",
            "|    layer3.22.bn3               |    2.048K              |    17.172M |\n",
            "|  layer4                        |  14.965M               |  0.125T    |\n",
            "|   layer4.0                     |   6.04M                |   50.642G  |\n",
            "|    layer4.0.conv1              |    0.524M              |    4.396G  |\n",
            "|    layer4.0.bn1                |    1.024K              |    8.586M  |\n",
            "|    layer4.0.conv2              |    2.359M              |    19.783G |\n",
            "|    layer4.0.bn2                |    1.024K              |    8.586M  |\n",
            "|    layer4.0.conv3              |    1.049M              |    8.792G  |\n",
            "|    layer4.0.bn3                |    4.096K              |    34.345M |\n",
            "|    layer4.0.downsample         |    2.101M              |    17.619G |\n",
            "|   layer4.1                     |   4.463M               |   37.419G  |\n",
            "|    layer4.1.conv1              |    1.049M              |    8.792G  |\n",
            "|    layer4.1.bn1                |    1.024K              |    8.586M  |\n",
            "|    layer4.1.conv2              |    2.359M              |    19.783G |\n",
            "|    layer4.1.bn2                |    1.024K              |    8.586M  |\n",
            "|    layer4.1.conv3              |    1.049M              |    8.792G  |\n",
            "|    layer4.1.bn3                |    4.096K              |    34.345M |\n",
            "|   layer4.2                     |   4.463M               |   37.419G  |\n",
            "|    layer4.2.conv1              |    1.049M              |    8.792G  |\n",
            "|    layer4.2.bn1                |    1.024K              |    8.586M  |\n",
            "|    layer4.2.conv2              |    2.359M              |    19.783G |\n",
            "|    layer4.2.bn2                |    1.024K              |    8.586M  |\n",
            "|    layer4.2.conv3              |    1.049M              |    8.792G  |\n",
            "|    layer4.2.bn3                |    4.096K              |    34.345M |\n",
            "|  layer6.conv2d_list            |  1.401M                |  11.746G   |\n",
            "|   layer6.conv2d_list.0         |   0.35M                |   2.936G   |\n",
            "|    layer6.conv2d_list.0.weight |    (19, 2048, 3, 3)    |            |\n",
            "|    layer6.conv2d_list.0.bias   |    (19,)               |            |\n",
            "|   layer6.conv2d_list.1         |   0.35M                |   2.936G   |\n",
            "|    layer6.conv2d_list.1.weight |    (19, 2048, 3, 3)    |            |\n",
            "|    layer6.conv2d_list.1.bias   |    (19,)               |            |\n",
            "|   layer6.conv2d_list.2         |   0.35M                |   2.936G   |\n",
            "|    layer6.conv2d_list.2.weight |    (19, 2048, 3, 3)    |            |\n",
            "|    layer6.conv2d_list.2.bias   |    (19,)               |            |\n",
            "|   layer6.conv2d_list.3         |   0.35M                |   2.936G   |\n",
            "|    layer6.conv2d_list.3.weight |    (19, 2048, 3, 3)    |            |\n",
            "|    layer6.conv2d_list.3.bias   |    (19,)               |            |\n"
          ]
        }
      ]
    },
    {
      "cell_type": "code",
      "source": [
        "# Measure FLOPs and parameters using torchprofile\n",
        "dummy_input = torch.randn(1, 3, 1024,512).to(device)\n",
        "model.eval()\n",
        "flops = torchprofile.profile_macs(model, args=(dummy_input,))\n",
        "\n",
        "params = sum(p.numel() for p in model.parameters())\n",
        "\n",
        "print(f' flops={flops}\\n params={params} ')\n"
      ],
      "metadata": {
        "id": "ljOeeMI_Qlp6",
        "colab": {
          "base_uri": "https://localhost:8080/"
        },
        "outputId": "64294b2a-945f-4e94-be3e-e1a6ce54b5be"
      },
      "execution_count": null,
      "outputs": [
        {
          "output_type": "stream",
          "name": "stdout",
          "text": [
            " flops=374180359552\n",
            " params=43901068 \n"
          ]
        }
      ]
    },
    {
      "cell_type": "code",
      "source": [],
      "metadata": {
        "id": "oAV31KBrTNVQ"
      },
      "execution_count": null,
      "outputs": []
    },
    {
      "cell_type": "markdown",
      "source": [
        "**Training**"
      ],
      "metadata": {
        "id": "9Iwy_KA5TNwE"
      }
    },
    {
      "cell_type": "code",
      "source": [
        "from google.colab import drive\n",
        "from pathlib import Path\n",
        "import os\n",
        "\n",
        "drive.mount('/content/Drive')\n",
        "get_ipython().system('/content/Drive/MyDrive/Checkpoints/deeplap/lr0001b4')\n"
      ],
      "metadata": {
        "id": "_9bIw2itd4nQ"
      },
      "execution_count": null,
      "outputs": []
    },
    {
      "cell_type": "code",
      "source": [
        "# Function to save the model\n",
        "def save_checkpoint(epoch, model, optimizer, save_dir='/content/Drive/MyDrive/Checkpoints/deeplap/lr0001b4'):\n",
        "    # Ensure the save directory exists\n",
        "    Path(save_dir).mkdir(parents=True, exist_ok=True)\n",
        "\n",
        "    # Define the model filename with the epoch number\n",
        "    checkpoint_filename = f'checkpoint_epoch_{epoch}.pth'\n",
        "    checkpoint_path = os.path.join(save_dir, checkpoint_filename)\n",
        "\n",
        "    # Save the model and optimizer state dictionaries\n",
        "    torch.save({\n",
        "        'epoch': epoch,\n",
        "        'model_state_dict': model.state_dict(),\n",
        "        'optimizer_state_dict': optimizer.state_dict(),\n",
        "    }, checkpoint_path)\n",
        "    print(f'Model and optimizer saved to {checkpoint_path}')\n",
        "\n",
        "# Function to load the model\n",
        "def load_checkpoint(epoch, model, optimizer, save_dir='/content/Drive/MyDrive/Checkpoints/deeplap/lr0001b4'):\n",
        "    checkpoint_filename = f'checkpoint_epoch_{epoch}.pth'\n",
        "    checkpoint_path = os.path.join(save_dir, checkpoint_filename)\n",
        "\n",
        "    # Check if the file exists\n",
        "    if not os.path.isfile(checkpoint_path):\n",
        "        raise FileNotFoundError(f\"The specified file was not found: {checkpoint_path}\")\n",
        "\n",
        "    # Load the model and optimizer state dictionaries\n",
        "    checkpoint = torch.load(checkpoint_path)\n",
        "    model.load_state_dict(checkpoint['model_state_dict'])\n",
        "    optimizer.load_state_dict(checkpoint['optimizer_state_dict'])\n",
        "    start_epoch = checkpoint['epoch']\n",
        "\n",
        "    print(f'Model and optimizer loaded from {checkpoint_path}, resuming at epoch {start_epoch}')\n",
        "    return model, optimizer, start_epoch"
      ],
      "metadata": {
        "id": "8swzVlBQeEjO"
      },
      "execution_count": null,
      "outputs": []
    },
    {
      "cell_type": "code",
      "source": [
        "# Training loop\n",
        "\n",
        "# Resume training from the last checkpoint if available\n",
        "resume_training =True  # Set this to True if you want to resume training\n",
        "\n",
        "epochs = 50 # Set this to the total number of epochs you want to train\n",
        "if resume_training:\n",
        "    epoch_to_resume =24 #9,19,29,39,49  # Set this to the epoch from which you want to resume\n",
        "    try:\n",
        "        model, optimizer, start_epoch = load_checkpoint(epoch_to_resume, model, optimizer)\n",
        "\n",
        "    except FileNotFoundError as e:\n",
        "        print(e)\n",
        "        start_epoch = 0\n",
        "else:\n",
        "    start_epoch = 0\n",
        "\n",
        "# Training loop\n",
        "for epoch in range(start_epoch, epochs):\n",
        "#for epoch in range(epochs):\n",
        "    model.train()\n",
        "    running_loss = 0.0\n",
        "    miou_metric.reset()\n",
        "    counter=1\n",
        "    for images, labels in train_loader:\n",
        "        images, labels = images.to(device), labels.to(device)\n",
        "\n",
        "        optimizer.zero_grad()\n",
        "\n",
        "        outputs = model(images)\n",
        "\n",
        "        labels = labels.squeeze(1)\n",
        "\n",
        "        loss = criterion(outputs[0], labels.long())\n",
        "        #print(loss)\n",
        "        loss.backward()\n",
        "        optimizer.step()\n",
        "       # print(counter)\n",
        "        counter+=1\n",
        "\n",
        "        running_loss += loss.item()\n",
        "\n",
        "        miou_metric.update(outputs[0].argmax(dim=1), labels)\n",
        "\n",
        "\n",
        "         # Save the model every 10 epochs\n",
        "    if (epoch+1) % 5 == 0:\n",
        "        save_checkpoint(epoch, model, optimizer)\n",
        "\n",
        "\n",
        "    miou = miou_metric.compute().item()\n",
        "    print(f'Epoch [{epoch+1}/{epochs}], Loss: {running_loss/len(train_loader)}, Train mIoU: {miou}')\n",
        "\n",
        "# Measure latency after training\n",
        "latency = measure_latency(model, dummy_input)\n",
        "print(f\"FLOPs: {flops}, Params: {params}, Latency: {latency:.6f} seconds\")\n",
        "\n",
        "print(\"Training completed!\")\n"
      ],
      "metadata": {
        "id": "i1T9gxM10O1P"
      },
      "execution_count": null,
      "outputs": []
    },
    {
      "cell_type": "code",
      "source": [],
      "metadata": {
        "id": "N16Z0xNJeSrQ"
      },
      "execution_count": null,
      "outputs": []
    },
    {
      "cell_type": "code",
      "source": [],
      "metadata": {
        "id": "YaYSLAu8eSvJ"
      },
      "execution_count": null,
      "outputs": []
    },
    {
      "cell_type": "markdown",
      "source": [
        "**Test Loader**"
      ],
      "metadata": {
        "id": "OpQ67CRAKM-t"
      }
    },
    {
      "cell_type": "code",
      "source": [
        "# Define a transform if you need to preprocess the images\n",
        "transformed_dataset = CityscapesDataset(root_dir='/content/Drive/MyDrive/Cityscapes/Cityspaces/gtFine/val', #/content/Cityscapes/Cityspaces/gtFine/train\n",
        "im_transform=transforms.Compose([\n",
        "\n",
        "transforms.ToTensor(),\n",
        "transforms.Resize(test_resolution),\n",
        "\n",
        "]), )\n",
        "\n",
        "\n",
        "test_loader = DataLoader(transformed_dataset, batch_size=batch_size, shuffle=True, num_workers=4)\n",
        "\n",
        "\n"
      ],
      "metadata": {
        "id": "Q8F7HxrMSK3X"
      },
      "execution_count": null,
      "outputs": []
    },
    {
      "cell_type": "markdown",
      "source": [
        "**Inference and mIoU calculation on test set**"
      ],
      "metadata": {
        "id": "AZ3uZ37_S_5C"
      }
    },
    {
      "cell_type": "code",
      "source": [
        "\n",
        "\n",
        "\n",
        "model.eval()\n",
        "miou_metric.reset()\n",
        "\n",
        "with torch.no_grad():\n",
        "    for images, labels in test_loader:\n",
        "        images, labels = images.to(device), labels.to(device)\n",
        "\n",
        "        outputs = model(images)\n",
        "\n",
        "        # Assuming outputs is of shape (N, C, H, W) and labels is of shape (N, H, W)\n",
        "        # If outputs is already (N, C, H, W) and labels is (N, H, W), you should not squeeze labels\n",
        "         #labels = labels.squeeze(0)  # Remove this line if labels are already of shape (N, H, W)\n",
        "\n",
        "        # Get predictions\n",
        "        preds = outputs.argmax(dim=1)  # Now preds will be of shape (N, H, W)\n",
        "\n",
        "        miou_metric.update(preds, labels)\n",
        "\n",
        "miou = miou_metric.compute().item()\n",
        "print(f'Test mIoU: {miou}')\n",
        "\n",
        "\n"
      ],
      "metadata": {
        "id": "KZd3_wXY4DbS"
      },
      "execution_count": null,
      "outputs": []
    },
    {
      "cell_type": "code",
      "source": [],
      "metadata": {
        "id": "DQ2ppYnlbynT"
      },
      "execution_count": null,
      "outputs": []
    }
  ]
}